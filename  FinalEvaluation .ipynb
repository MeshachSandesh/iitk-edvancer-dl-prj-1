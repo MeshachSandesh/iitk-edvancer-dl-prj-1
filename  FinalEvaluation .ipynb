{
 "cells": [
  {
   "cell_type": "code",
   "execution_count": 1,
   "id": "ace29b21",
   "metadata": {},
   "outputs": [],
   "source": [
    "import pandas as pd"
   ]
  },
  {
   "cell_type": "code",
   "execution_count": 2,
   "id": "af8c331f",
   "metadata": {},
   "outputs": [],
   "source": [
    "# df = pd.read_csv(\"/kaggle/input/deeplearing-project/top_10_tags_encoded.csv\")\n",
    "df = pd.read_csv('./finalData/top_10_tags_encoded.csv', encoding='latin1')"
   ]
  },
  {
   "cell_type": "code",
   "execution_count": null,
   "id": "6c70159c",
   "metadata": {},
   "outputs": [],
   "source": [
    "import numpy as np\n",
    "from tensorflow.keras.models import Sequential\n",
    "from tensorflow.keras.layers import Embedding, LSTM, Dense\n",
    "from tensorflow.keras.preprocessing.text import Tokenizer\n",
    "\n",
    "from tensorflow.keras.callbacks import EarlyStopping"
   ]
  },
  {
   "cell_type": "code",
   "execution_count": 5,
   "id": "b693470e",
   "metadata": {},
   "outputs": [],
   "source": [
    "from tensorflow.keras.preprocessing.text import Tokenizer"
   ]
  },
  {
   "cell_type": "code",
   "execution_count": 3,
   "id": "f082707c",
   "metadata": {},
   "outputs": [],
   "source": [
    "# Parameters\n",
    "MAX_NUM_WORDS = 10000\n",
    "MAX_SEQUENCE_LENGTH = 300\n",
    "# EMBEDDING_DIM = 100\n",
    "# EPOCHS = 5\n",
    "# BATCH_SIZE = 128"
   ]
  },
  {
   "cell_type": "code",
   "execution_count": 6,
   "id": "66aafdfa",
   "metadata": {},
   "outputs": [],
   "source": [
    "# Tokenize\n",
    "tokenizer = Tokenizer(num_words=MAX_NUM_WORDS)\n",
    "tokenizer.fit_on_texts(df['clean_text'])\n",
    "sequences = tokenizer.texts_to_sequences(df['clean_text'])"
   ]
  },
  {
   "cell_type": "code",
   "execution_count": 8,
   "id": "e078db2c",
   "metadata": {},
   "outputs": [],
   "source": [
    "from tensorflow.keras.preprocessing.sequence import pad_sequences"
   ]
  },
  {
   "cell_type": "code",
   "execution_count": 9,
   "id": "31f1419f",
   "metadata": {},
   "outputs": [],
   "source": [
    "# Pad\n",
    "X_seq = pad_sequences(sequences, maxlen=MAX_SEQUENCE_LENGTH)"
   ]
  },
  {
   "cell_type": "code",
   "execution_count": null,
   "id": "54bf3261",
   "metadata": {},
   "outputs": [],
   "source": [
    "# Labels (one-hot multilabel)\n",
    "y = df.iloc[:, 1:].values  # clean_text is the first column"
   ]
  },
  {
   "cell_type": "code",
   "execution_count": 11,
   "id": "afd972a4",
   "metadata": {},
   "outputs": [],
   "source": [
    "import numpy as np\n",
    "from tensorflow.keras.models import load_model\n",
    "from sklearn.metrics import classification_report"
   ]
  },
  {
   "cell_type": "code",
   "execution_count": 12,
   "id": "11eb8943",
   "metadata": {},
   "outputs": [
    {
     "name": "stderr",
     "output_type": "stream",
     "text": [
      "WARNING:absl:Compiled the loaded model, but the compiled metrics have yet to be built. `model.compile_metrics` will be empty until you train or evaluate the model.\n"
     ]
    }
   ],
   "source": [
    "model = load_model(\"./finalData/final_model.h5\")"
   ]
  },
  {
   "cell_type": "code",
   "execution_count": 13,
   "id": "a58bc107",
   "metadata": {},
   "outputs": [
    {
     "name": "stdout",
     "output_type": "stream",
     "text": [
      "\u001b[1m22054/22054\u001b[0m \u001b[32m━━━━━━━━━━━━━━━━━━━━\u001b[0m\u001b[37m\u001b[0m \u001b[1m1703s\u001b[0m 77ms/step\n"
     ]
    }
   ],
   "source": [
    "# Predict probabilities\n",
    "y_pred_probs = model.predict(X_seq)"
   ]
  },
  {
   "cell_type": "code",
   "execution_count": 14,
   "id": "9c6dc57d",
   "metadata": {},
   "outputs": [],
   "source": [
    "# Apply best thresholds (from earlier tuning)\n",
    "best_thresholds = np.array([0.55, 0.45, 0.40, 0.35, 0.55, 0.55, 0.45, 0.50, 0.45, 0.60])\n",
    "y_pred_final = (y_pred_probs > best_thresholds).astype(int)"
   ]
  },
  {
   "cell_type": "code",
   "execution_count": 15,
   "id": "484e851f",
   "metadata": {},
   "outputs": [],
   "source": [
    "# Ground truth\n",
    "y_true = y  # already used in training"
   ]
  },
  {
   "cell_type": "code",
   "execution_count": 16,
   "id": "e25a6f74",
   "metadata": {},
   "outputs": [
    {
     "name": "stdout",
     "output_type": "stream",
     "text": [
      "              precision    recall  f1-score   support\n",
      "\n",
      "  javascript       0.98      0.95      0.97     90588\n",
      "        java       0.93      0.95      0.94    101077\n",
      "          c#       0.96      0.92      0.94     47544\n",
      "         php       0.72      0.68      0.70     58970\n",
      "     android       0.98      0.95      0.97     46976\n",
      "      jquery       0.97      0.84      0.90    115011\n",
      "      python       0.86      0.82      0.84    124071\n",
      "        html       0.86      0.84      0.85     78526\n",
      "         c++       0.95      0.95      0.95     98750\n",
      "         ios       0.99      0.97      0.98     64553\n",
      "\n",
      "   micro avg       0.92      0.89      0.90    826066\n",
      "   macro avg       0.92      0.89      0.90    826066\n",
      "weighted avg       0.92      0.89      0.90    826066\n",
      " samples avg       0.93      0.92      0.92    826066\n",
      "\n"
     ]
    },
    {
     "name": "stderr",
     "output_type": "stream",
     "text": [
      "/Users/meshach/miniconda3/envs/pythonEnv2Mesh/lib/python3.11/site-packages/sklearn/metrics/_classification.py:1565: UndefinedMetricWarning: Precision is ill-defined and being set to 0.0 in samples with no predicted labels. Use `zero_division` parameter to control this behavior.\n",
      "  _warn_prf(average, modifier, f\"{metric.capitalize()} is\", len(result))\n"
     ]
    }
   ],
   "source": [
    "# Classification Report\n",
    "label_names = ['javascript', 'java', 'c#', 'php', 'android', 'jquery', 'python', 'html', 'c++', 'ios']\n",
    "print(classification_report(y_true, y_pred_final, target_names=label_names))"
   ]
  }
 ],
 "metadata": {
  "kernelspec": {
   "display_name": "pythonEnv2Mesh",
   "language": "python",
   "name": "python3"
  },
  "language_info": {
   "codemirror_mode": {
    "name": "ipython",
    "version": 3
   },
   "file_extension": ".py",
   "mimetype": "text/x-python",
   "name": "python",
   "nbconvert_exporter": "python",
   "pygments_lexer": "ipython3",
   "version": "3.11.11"
  }
 },
 "nbformat": 4,
 "nbformat_minor": 5
}
