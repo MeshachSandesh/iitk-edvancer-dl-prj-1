{
 "cells": [
  {
   "cell_type": "code",
   "execution_count": 1,
   "id": "2f0437ec",
   "metadata": {},
   "outputs": [],
   "source": [
    "import pandas as pd\n",
    "from sklearn.preprocessing import MultiLabelBinarizer\n",
    "import ast"
   ]
  },
  {
   "cell_type": "code",
   "execution_count": 28,
   "id": "c6b7b3db",
   "metadata": {},
   "outputs": [],
   "source": [
    "df = pd.read_csv('./finalData/top_10_filtered_data.csv', encoding='latin1')"
   ]
  },
  {
   "cell_type": "code",
   "execution_count": 21,
   "id": "e037b285",
   "metadata": {},
   "outputs": [
    {
     "data": {
      "text/html": [
       "<div>\n",
       "<style scoped>\n",
       "    .dataframe tbody tr th:only-of-type {\n",
       "        vertical-align: middle;\n",
       "    }\n",
       "\n",
       "    .dataframe tbody tr th {\n",
       "        vertical-align: top;\n",
       "    }\n",
       "\n",
       "    .dataframe thead th {\n",
       "        text-align: right;\n",
       "    }\n",
       "</style>\n",
       "<table border=\"1\" class=\"dataframe\">\n",
       "  <thead>\n",
       "    <tr style=\"text-align: right;\">\n",
       "      <th></th>\n",
       "      <th>clean_text</th>\n",
       "      <th>Tags</th>\n",
       "    </tr>\n",
       "  </thead>\n",
       "  <tbody>\n",
       "    <tr>\n",
       "      <th>477696</th>\n",
       "      <td>adding date filename rollingfileappender file ...</td>\n",
       "      <td>['c#']</td>\n",
       "    </tr>\n",
       "    <tr>\n",
       "      <th>70730</th>\n",
       "      <td>azman give different result different server 2...</td>\n",
       "      <td>['c#']</td>\n",
       "    </tr>\n",
       "    <tr>\n",
       "      <th>321243</th>\n",
       "      <td>running exported selenium test c webdriver may...</td>\n",
       "      <td>['c#']</td>\n",
       "    </tr>\n",
       "    <tr>\n",
       "      <th>71882</th>\n",
       "      <td>display dialogbox text input c possible duplic...</td>\n",
       "      <td>['c#']</td>\n",
       "    </tr>\n",
       "    <tr>\n",
       "      <th>65288</th>\n",
       "      <td>dynamic html 3 layer nested quote - im writing...</td>\n",
       "      <td>['javascript', 'html']</td>\n",
       "    </tr>\n",
       "    <tr>\n",
       "      <th>434056</th>\n",
       "      <td>c xna user input number dealing simple game c ...</td>\n",
       "      <td>['c#']</td>\n",
       "    </tr>\n",
       "    <tr>\n",
       "      <th>172166</th>\n",
       "      <td>locate specific serial port following code ret...</td>\n",
       "      <td>['c#']</td>\n",
       "    </tr>\n",
       "    <tr>\n",
       "      <th>698761</th>\n",
       "      <td>cant put return reverse ( head.next ) last ins...</td>\n",
       "      <td>['java']</td>\n",
       "    </tr>\n",
       "    <tr>\n",
       "      <th>506721</th>\n",
       "      <td>access control allow origin present signalr 2....</td>\n",
       "      <td>['javascript']</td>\n",
       "    </tr>\n",
       "    <tr>\n",
       "      <th>1142</th>\n",
       "      <td>visio uml - showing pointer attribute return v...</td>\n",
       "      <td>['c++']</td>\n",
       "    </tr>\n",
       "  </tbody>\n",
       "</table>\n",
       "</div>"
      ],
      "text/plain": [
       "                                               clean_text  \\\n",
       "477696  adding date filename rollingfileappender file ...   \n",
       "70730   azman give different result different server 2...   \n",
       "321243  running exported selenium test c webdriver may...   \n",
       "71882   display dialogbox text input c possible duplic...   \n",
       "65288   dynamic html 3 layer nested quote - im writing...   \n",
       "434056  c xna user input number dealing simple game c ...   \n",
       "172166  locate specific serial port following code ret...   \n",
       "698761  cant put return reverse ( head.next ) last ins...   \n",
       "506721  access control allow origin present signalr 2....   \n",
       "1142    visio uml - showing pointer attribute return v...   \n",
       "\n",
       "                          Tags  \n",
       "477696                  ['c#']  \n",
       "70730                   ['c#']  \n",
       "321243                  ['c#']  \n",
       "71882                   ['c#']  \n",
       "65288   ['javascript', 'html']  \n",
       "434056                  ['c#']  \n",
       "172166                  ['c#']  \n",
       "698761                ['java']  \n",
       "506721          ['javascript']  \n",
       "1142                   ['c++']  "
      ]
     },
     "execution_count": 21,
     "metadata": {},
     "output_type": "execute_result"
    }
   ],
   "source": [
    "df.sample(10)"
   ]
  },
  {
   "cell_type": "code",
   "execution_count": 27,
   "id": "51a71b76",
   "metadata": {},
   "outputs": [
    {
     "data": {
      "text/plain": [
       "601102     ['javascript']\n",
       "559197         ['python']\n",
       "319945            ['php']\n",
       "697846    ['php', 'html']\n",
       "Name: Tags, dtype: object"
      ]
     },
     "execution_count": 27,
     "metadata": {},
     "output_type": "execute_result"
    }
   ],
   "source": [
    "# df['Tags'].sample(100).to_csv(\"test5.csv\")\n",
    "df['Tags'].sample(4)"
   ]
  },
  {
   "cell_type": "code",
   "execution_count": null,
   "id": "5cc372d8",
   "metadata": {},
   "outputs": [],
   "source": [
    "# Convert string to list, df['Tags'] is a string like a json object, so we convert it to python list\n",
    "df['Tags'] = df['Tags'].apply(lambda x: ast.literal_eval(x) if isinstance(x, str) else [])"
   ]
  },
  {
   "cell_type": "code",
   "execution_count": 30,
   "id": "0cacb622",
   "metadata": {},
   "outputs": [
    {
     "data": {
      "text/html": [
       "<div>\n",
       "<style scoped>\n",
       "    .dataframe tbody tr th:only-of-type {\n",
       "        vertical-align: middle;\n",
       "    }\n",
       "\n",
       "    .dataframe tbody tr th {\n",
       "        vertical-align: top;\n",
       "    }\n",
       "\n",
       "    .dataframe thead th {\n",
       "        text-align: right;\n",
       "    }\n",
       "</style>\n",
       "<table border=\"1\" class=\"dataframe\">\n",
       "  <thead>\n",
       "    <tr style=\"text-align: right;\">\n",
       "      <th></th>\n",
       "      <th>clean_text</th>\n",
       "      <th>Tags</th>\n",
       "    </tr>\n",
       "  </thead>\n",
       "  <tbody>\n",
       "    <tr>\n",
       "      <th>0</th>\n",
       "      <td>adding scripting functionality .net applicatio...</td>\n",
       "      <td>[c#]</td>\n",
       "    </tr>\n",
       "    <tr>\n",
       "      <th>1</th>\n",
       "      <td>use nested class case working collection class...</td>\n",
       "      <td>[c++]</td>\n",
       "    </tr>\n",
       "    <tr>\n",
       "      <th>2</th>\n",
       "      <td>automatically update version number would like...</td>\n",
       "      <td>[c#]</td>\n",
       "    </tr>\n",
       "    <tr>\n",
       "      <th>3</th>\n",
       "      <td>connect database loop recordset c whats simple...</td>\n",
       "      <td>[c#]</td>\n",
       "    </tr>\n",
       "    <tr>\n",
       "      <th>4</th>\n",
       "      <td>get value built , encoded viewstate need grab ...</td>\n",
       "      <td>[c#]</td>\n",
       "    </tr>\n",
       "  </tbody>\n",
       "</table>\n",
       "</div>"
      ],
      "text/plain": [
       "                                          clean_text   Tags\n",
       "0  adding scripting functionality .net applicatio...   [c#]\n",
       "1  use nested class case working collection class...  [c++]\n",
       "2  automatically update version number would like...   [c#]\n",
       "3  connect database loop recordset c whats simple...   [c#]\n",
       "4  get value built , encoded viewstate need grab ...   [c#]"
      ]
     },
     "execution_count": 30,
     "metadata": {},
     "output_type": "execute_result"
    }
   ],
   "source": [
    "df.head()"
   ]
  },
  {
   "cell_type": "markdown",
   "id": "8073722e",
   "metadata": {},
   "source": [
    "Now we will do use \"Multi-label binarization\". This is one hot encoding where each row can have multiple values. (OHE has only one value for each row)\n"
   ]
  },
  {
   "cell_type": "code",
   "execution_count": 31,
   "id": "7f2575e9",
   "metadata": {},
   "outputs": [],
   "source": [
    "# Multi-label binarization\n",
    "mlb = MultiLabelBinarizer()\n",
    "tag_matrix = mlb.fit_transform(df['Tags'])"
   ]
  },
  {
   "cell_type": "code",
   "execution_count": null,
   "id": "19d6b9f3",
   "metadata": {},
   "outputs": [
    {
     "name": "stdout",
     "output_type": "stream",
     "text": [
      "['android' 'c#' 'c++' 'html' 'ios' 'java' 'javascript' 'jquery' 'php'\n",
      " 'python']\n",
      "[[0 1 0 ... 0 0 0]\n",
      " [0 0 1 ... 0 0 0]\n",
      " [0 1 0 ... 0 0 0]\n",
      " ...\n",
      " [0 0 0 ... 0 1 0]\n",
      " [1 0 0 ... 0 0 0]\n",
      " [0 0 0 ... 0 0 0]]\n"
     ]
    }
   ],
   "source": [
    "print(mlb.classes_) # the name of the columns are here\n",
    "print(tag_matrix) # this is just a NumPy array of 0s and 1s."
   ]
  },
  {
   "cell_type": "code",
   "execution_count": null,
   "id": "7b042470",
   "metadata": {},
   "outputs": [],
   "source": [
    "# Create a DataFrame for the binary tag matrix (we aer passing the NumPy array (tag_matrix) and the columns (mlb.classes_) )\n",
    "tag_df = pd.DataFrame(tag_matrix, columns=mlb.classes_)"
   ]
  },
  {
   "cell_type": "code",
   "execution_count": 36,
   "id": "69a3a4c6",
   "metadata": {},
   "outputs": [
    {
     "data": {
      "text/html": [
       "<div>\n",
       "<style scoped>\n",
       "    .dataframe tbody tr th:only-of-type {\n",
       "        vertical-align: middle;\n",
       "    }\n",
       "\n",
       "    .dataframe tbody tr th {\n",
       "        vertical-align: top;\n",
       "    }\n",
       "\n",
       "    .dataframe thead th {\n",
       "        text-align: right;\n",
       "    }\n",
       "</style>\n",
       "<table border=\"1\" class=\"dataframe\">\n",
       "  <thead>\n",
       "    <tr style=\"text-align: right;\">\n",
       "      <th></th>\n",
       "      <th>android</th>\n",
       "      <th>c#</th>\n",
       "      <th>c++</th>\n",
       "      <th>html</th>\n",
       "      <th>ios</th>\n",
       "      <th>java</th>\n",
       "      <th>javascript</th>\n",
       "      <th>jquery</th>\n",
       "      <th>php</th>\n",
       "      <th>python</th>\n",
       "    </tr>\n",
       "  </thead>\n",
       "  <tbody>\n",
       "    <tr>\n",
       "      <th>350290</th>\n",
       "      <td>0</td>\n",
       "      <td>0</td>\n",
       "      <td>0</td>\n",
       "      <td>0</td>\n",
       "      <td>0</td>\n",
       "      <td>0</td>\n",
       "      <td>0</td>\n",
       "      <td>0</td>\n",
       "      <td>0</td>\n",
       "      <td>1</td>\n",
       "    </tr>\n",
       "    <tr>\n",
       "      <th>671963</th>\n",
       "      <td>0</td>\n",
       "      <td>0</td>\n",
       "      <td>0</td>\n",
       "      <td>0</td>\n",
       "      <td>0</td>\n",
       "      <td>0</td>\n",
       "      <td>1</td>\n",
       "      <td>0</td>\n",
       "      <td>0</td>\n",
       "      <td>0</td>\n",
       "    </tr>\n",
       "  </tbody>\n",
       "</table>\n",
       "</div>"
      ],
      "text/plain": [
       "        android  c#  c++  html  ios  java  javascript  jquery  php  python\n",
       "350290        0   0    0     0    0     0           0       0    0       1\n",
       "671963        0   0    0     0    0     0           1       0    0       0"
      ]
     },
     "execution_count": 36,
     "metadata": {},
     "output_type": "execute_result"
    }
   ],
   "source": [
    "# tag_df.sample(100).to_csv('test6.csv')\n",
    "tag_df.sample(2)"
   ]
  },
  {
   "cell_type": "code",
   "execution_count": 37,
   "id": "68463e62",
   "metadata": {},
   "outputs": [],
   "source": [
    "# Optionally concatenate with the original data, remove Tags and add the Multi-label binarization columns\n",
    "df_encoded = pd.concat([df.drop(columns=['Tags']), tag_df], axis=1)"
   ]
  },
  {
   "cell_type": "code",
   "execution_count": 39,
   "id": "29fe2e56",
   "metadata": {},
   "outputs": [
    {
     "data": {
      "text/html": [
       "<div>\n",
       "<style scoped>\n",
       "    .dataframe tbody tr th:only-of-type {\n",
       "        vertical-align: middle;\n",
       "    }\n",
       "\n",
       "    .dataframe tbody tr th {\n",
       "        vertical-align: top;\n",
       "    }\n",
       "\n",
       "    .dataframe thead th {\n",
       "        text-align: right;\n",
       "    }\n",
       "</style>\n",
       "<table border=\"1\" class=\"dataframe\">\n",
       "  <thead>\n",
       "    <tr style=\"text-align: right;\">\n",
       "      <th></th>\n",
       "      <th>clean_text</th>\n",
       "      <th>android</th>\n",
       "      <th>c#</th>\n",
       "      <th>c++</th>\n",
       "      <th>html</th>\n",
       "      <th>ios</th>\n",
       "      <th>java</th>\n",
       "      <th>javascript</th>\n",
       "      <th>jquery</th>\n",
       "      <th>php</th>\n",
       "      <th>python</th>\n",
       "    </tr>\n",
       "  </thead>\n",
       "  <tbody>\n",
       "    <tr>\n",
       "      <th>0</th>\n",
       "      <td>adding scripting functionality .net applicatio...</td>\n",
       "      <td>0</td>\n",
       "      <td>1</td>\n",
       "      <td>0</td>\n",
       "      <td>0</td>\n",
       "      <td>0</td>\n",
       "      <td>0</td>\n",
       "      <td>0</td>\n",
       "      <td>0</td>\n",
       "      <td>0</td>\n",
       "      <td>0</td>\n",
       "    </tr>\n",
       "    <tr>\n",
       "      <th>1</th>\n",
       "      <td>use nested class case working collection class...</td>\n",
       "      <td>0</td>\n",
       "      <td>0</td>\n",
       "      <td>1</td>\n",
       "      <td>0</td>\n",
       "      <td>0</td>\n",
       "      <td>0</td>\n",
       "      <td>0</td>\n",
       "      <td>0</td>\n",
       "      <td>0</td>\n",
       "      <td>0</td>\n",
       "    </tr>\n",
       "    <tr>\n",
       "      <th>2</th>\n",
       "      <td>automatically update version number would like...</td>\n",
       "      <td>0</td>\n",
       "      <td>1</td>\n",
       "      <td>0</td>\n",
       "      <td>0</td>\n",
       "      <td>0</td>\n",
       "      <td>0</td>\n",
       "      <td>0</td>\n",
       "      <td>0</td>\n",
       "      <td>0</td>\n",
       "      <td>0</td>\n",
       "    </tr>\n",
       "    <tr>\n",
       "      <th>3</th>\n",
       "      <td>connect database loop recordset c whats simple...</td>\n",
       "      <td>0</td>\n",
       "      <td>1</td>\n",
       "      <td>0</td>\n",
       "      <td>0</td>\n",
       "      <td>0</td>\n",
       "      <td>0</td>\n",
       "      <td>0</td>\n",
       "      <td>0</td>\n",
       "      <td>0</td>\n",
       "      <td>0</td>\n",
       "    </tr>\n",
       "    <tr>\n",
       "      <th>4</th>\n",
       "      <td>get value built , encoded viewstate need grab ...</td>\n",
       "      <td>0</td>\n",
       "      <td>1</td>\n",
       "      <td>0</td>\n",
       "      <td>0</td>\n",
       "      <td>0</td>\n",
       "      <td>0</td>\n",
       "      <td>0</td>\n",
       "      <td>0</td>\n",
       "      <td>0</td>\n",
       "      <td>0</td>\n",
       "    </tr>\n",
       "  </tbody>\n",
       "</table>\n",
       "</div>"
      ],
      "text/plain": [
       "                                          clean_text  android  c#  c++  html  \\\n",
       "0  adding scripting functionality .net applicatio...        0   1    0     0   \n",
       "1  use nested class case working collection class...        0   0    1     0   \n",
       "2  automatically update version number would like...        0   1    0     0   \n",
       "3  connect database loop recordset c whats simple...        0   1    0     0   \n",
       "4  get value built , encoded viewstate need grab ...        0   1    0     0   \n",
       "\n",
       "   ios  java  javascript  jquery  php  python  \n",
       "0    0     0           0       0    0       0  \n",
       "1    0     0           0       0    0       0  \n",
       "2    0     0           0       0    0       0  \n",
       "3    0     0           0       0    0       0  \n",
       "4    0     0           0       0    0       0  "
      ]
     },
     "execution_count": 39,
     "metadata": {},
     "output_type": "execute_result"
    }
   ],
   "source": [
    "df_encoded.head()"
   ]
  },
  {
   "cell_type": "code",
   "execution_count": 40,
   "id": "6c2f840e",
   "metadata": {},
   "outputs": [],
   "source": [
    "# Save to new CSV\n",
    "df_encoded.to_csv('top_10_tags_encoded.csv', index=False)"
   ]
  },
  {
   "cell_type": "code",
   "execution_count": 41,
   "id": "8abd42f4",
   "metadata": {},
   "outputs": [],
   "source": [
    "df_encoded.head(2).to_csv('test7.csv')"
   ]
  },
  {
   "cell_type": "code",
   "execution_count": null,
   "id": "d40afdfb",
   "metadata": {},
   "outputs": [],
   "source": []
  }
 ],
 "metadata": {
  "kernelspec": {
   "display_name": "pythonEnv2Mesh",
   "language": "python",
   "name": "python3"
  },
  "language_info": {
   "codemirror_mode": {
    "name": "ipython",
    "version": 3
   },
   "file_extension": ".py",
   "mimetype": "text/x-python",
   "name": "python",
   "nbconvert_exporter": "python",
   "pygments_lexer": "ipython3",
   "version": "3.11.11"
  }
 },
 "nbformat": 4,
 "nbformat_minor": 5
}
