{
 "cells": [
  {
   "cell_type": "code",
   "execution_count": 27,
   "id": "009b700f",
   "metadata": {},
   "outputs": [],
   "source": [
    "import pandas as pd\n",
    "import re\n",
    "from bs4 import BeautifulSoup"
   ]
  },
  {
   "cell_type": "code",
   "execution_count": 28,
   "id": "cd5cc1d0",
   "metadata": {},
   "outputs": [],
   "source": [
    "import sys\n",
    "sys.path.append('../../common')\n",
    "\n",
    "import importlib\n",
    "\n",
    "import support2\n",
    "importlib.reload(support2)\n",
    "\n",
    "from support2 import (\n",
    "    viewStats, \n",
    "    printAllUniqueValueCount, \n",
    "    compareTestTrain, \n",
    "    compareValuesInColumns, \n",
    "    GetColumnsWithTypeObject, \n",
    "    combineColumns, \n",
    "    clean_feature_names\n",
    ")"
   ]
  },
  {
   "cell_type": "code",
   "execution_count": 29,
   "id": "2b3ff6c5",
   "metadata": {},
   "outputs": [],
   "source": [
    "df = pd.read_csv('./finalData/final_merged_data.csv', encoding='latin1')\n"
   ]
  },
  {
   "cell_type": "code",
   "execution_count": 30,
   "id": "0ffd9dd8",
   "metadata": {},
   "outputs": [],
   "source": [
    "df.drop(columns=['Unnamed: 0'], inplace=True)"
   ]
  },
  {
   "cell_type": "code",
   "execution_count": 31,
   "id": "1a585452",
   "metadata": {},
   "outputs": [
    {
     "name": "stdout",
     "output_type": "stream",
     "text": [
      "(1264216, 3)\n",
      "Index(['Title', 'Body', 'Tags'], dtype='object')\n",
      "Title    object\n",
      "Body     object\n",
      "Tags     object\n",
      "dtype: object\n"
     ]
    }
   ],
   "source": [
    "print(df.shape); print(df.columns); \n",
    "print(df.dtypes)"
   ]
  },
  {
   "cell_type": "markdown",
   "id": "14f4858b",
   "metadata": {},
   "source": [
    "convert to lower case\n"
   ]
  },
  {
   "cell_type": "code",
   "execution_count": 32,
   "id": "a455dc1c",
   "metadata": {},
   "outputs": [],
   "source": [
    "df['Title'] = df['Title'].str.lower()\n",
    "df['Body'] = df['Body'].str.lower()"
   ]
  },
  {
   "cell_type": "code",
   "execution_count": 33,
   "id": "9c7bf579",
   "metadata": {},
   "outputs": [],
   "source": [
    "# df.head().to_csv(\"test.csv\")"
   ]
  },
  {
   "cell_type": "markdown",
   "id": "c8878311",
   "metadata": {},
   "source": [
    "Remove some special characters, Ill keep the ones that is used in coding considering stack overflow is about code questions\n"
   ]
  },
  {
   "cell_type": "code",
   "execution_count": 34,
   "id": "02ff52e7",
   "metadata": {},
   "outputs": [],
   "source": [
    "def clean_text(text):\n",
    "    # Keep alphanumeric, whitespace, and common code-related symbols\n",
    "    return re.sub(r\"[^a-zA-Z0-9\\s<>={}\\[\\]();.,:+\\-*/%_]\", \"\", text)\n",
    "\n",
    "df['Title'] = df['Title'].apply(clean_text)\n",
    "df['Body'] = df['Body'].apply(clean_text)"
   ]
  },
  {
   "cell_type": "code",
   "execution_count": 35,
   "id": "d624c4cb",
   "metadata": {},
   "outputs": [],
   "source": [
    "df.head().to_csv(\"test2.csv\")"
   ]
  },
  {
   "cell_type": "markdown",
   "id": "e715de4e",
   "metadata": {},
   "source": [
    "Remove HTML Tags\n"
   ]
  },
  {
   "cell_type": "code",
   "execution_count": 36,
   "id": "2e60f534",
   "metadata": {},
   "outputs": [
    {
     "name": "stderr",
     "output_type": "stream",
     "text": [
      "/var/folders/_p/yf0tq3wn5v7g1nt_mcl3k2gw0000gp/T/ipykernel_10230/3739783693.py:2: MarkupResemblesLocatorWarning: The input looks more like a filename than markup. You may want to open this file and pass the filehandle into Beautiful Soup.\n",
      "  return BeautifulSoup(text, \"html.parser\").get_text()\n",
      "/var/folders/_p/yf0tq3wn5v7g1nt_mcl3k2gw0000gp/T/ipykernel_10230/3739783693.py:2: MarkupResemblesLocatorWarning: The input looks more like a URL than markup. You may want to use an HTTP client like requests to get the document behind the URL, and feed that document to Beautiful Soup.\n",
      "  return BeautifulSoup(text, \"html.parser\").get_text()\n"
     ]
    }
   ],
   "source": [
    "def remove_html(text):\n",
    "    return BeautifulSoup(text, \"html.parser\").get_text()\n",
    "\n",
    "df['Title'] = df['Title'].apply(remove_html)\n",
    "df['Body'] = df['Body'].apply(remove_html)"
   ]
  },
  {
   "cell_type": "code",
   "execution_count": 38,
   "id": "18d36e05",
   "metadata": {},
   "outputs": [],
   "source": [
    "df.head().to_csv(\"test3.csv\")"
   ]
  },
  {
   "cell_type": "code",
   "execution_count": 39,
   "id": "c2759891",
   "metadata": {},
   "outputs": [],
   "source": [
    "df.to_csv(\"final_data_cleaned.csv\")"
   ]
  },
  {
   "cell_type": "code",
   "execution_count": null,
   "id": "b76119ac",
   "metadata": {},
   "outputs": [],
   "source": []
  }
 ],
 "metadata": {
  "kernelspec": {
   "display_name": "py3121",
   "language": "python",
   "name": "python3"
  },
  "language_info": {
   "codemirror_mode": {
    "name": "ipython",
    "version": 3
   },
   "file_extension": ".py",
   "mimetype": "text/x-python",
   "name": "python",
   "nbconvert_exporter": "python",
   "pygments_lexer": "ipython3",
   "version": "3.12.1"
  }
 },
 "nbformat": 4,
 "nbformat_minor": 5
}
