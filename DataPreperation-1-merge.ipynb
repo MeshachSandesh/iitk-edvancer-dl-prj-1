{
 "cells": [
  {
   "cell_type": "code",
   "execution_count": null,
   "id": "15921834",
   "metadata": {},
   "outputs": [],
   "source": [
    "import pandas as pd\n"
   ]
  },
  {
   "cell_type": "code",
   "execution_count": 14,
   "id": "5052ffa8",
   "metadata": {},
   "outputs": [],
   "source": [
    "import sys\n",
    "# Add the directory containing custom modules to the Python path\n",
    "sys.path.append('../../common')\n",
    "\n",
    "# Reloadable imports\n",
    "import importlib\n",
    "\n",
    "# Import the support2 module\n",
    "import support2\n",
    "importlib.reload(support2)\n",
    "\n",
    "# Import specific functions from support2\n",
    "from support2 import (\n",
    "    viewStats, \n",
    "    printAllUniqueValueCount, \n",
    "    compareTestTrain, \n",
    "    compareValuesInColumns, \n",
    "    GetColumnsWithTypeObject, \n",
    "    combineColumns, \n",
    "    clean_feature_names\n",
    ")\n",
    "\n",
    "# Import ml_utils module and alias it as mt\n",
    "# import ml_utils as mt\n",
    "# importlib.reload(mt)"
   ]
  },
  {
   "cell_type": "code",
   "execution_count": 9,
   "id": "72abfbf3",
   "metadata": {},
   "outputs": [],
   "source": [
    "df = pd.read_csv('../data/stacksample/Questions.csv', encoding='latin1')\n",
    "df_tags = pd.read_csv('../data/stacksample/tags.csv', encoding='latin1')\n",
    "df_answers = pd.read_csv('../data/stacksample/Answers.csv', encoding='latin1')"
   ]
  },
  {
   "cell_type": "code",
   "execution_count": 3,
   "id": "31206518",
   "metadata": {},
   "outputs": [
    {
     "data": {
      "text/plain": [
       "Id                int64\n",
       "OwnerUserId     float64\n",
       "CreationDate     object\n",
       "ClosedDate       object\n",
       "Score             int64\n",
       "Title            object\n",
       "Body             object\n",
       "dtype: object"
      ]
     },
     "execution_count": 3,
     "metadata": {},
     "output_type": "execute_result"
    }
   ],
   "source": [
    "df.dtypes"
   ]
  },
  {
   "cell_type": "markdown",
   "id": "df7f0b6c",
   "metadata": {},
   "source": [
    "Download a small sample:\n"
   ]
  },
  {
   "cell_type": "code",
   "execution_count": null,
   "id": "70fa6fc5",
   "metadata": {},
   "outputs": [],
   "source": [
    "# df.head(30).to_csv(\"questionsSample.csv\")\n",
    "# df_answers.head(30).to_csv(\"answers.csv\")\n",
    "# df_tags.head(30).to_csv(\"tagsSample.csv\")"
   ]
  },
  {
   "cell_type": "code",
   "execution_count": 15,
   "id": "9208ba89",
   "metadata": {},
   "outputs": [
    {
     "data": {
      "text/html": [
       "<div>\n",
       "<style scoped>\n",
       "    .dataframe tbody tr th:only-of-type {\n",
       "        vertical-align: middle;\n",
       "    }\n",
       "\n",
       "    .dataframe tbody tr th {\n",
       "        vertical-align: top;\n",
       "    }\n",
       "\n",
       "    .dataframe thead th {\n",
       "        text-align: right;\n",
       "    }\n",
       "</style>\n",
       "<table border=\"1\" class=\"dataframe\">\n",
       "  <thead>\n",
       "    <tr style=\"text-align: right;\">\n",
       "      <th></th>\n",
       "      <th>Total Unique Values</th>\n",
       "      <th>Total Missing Values</th>\n",
       "      <th>missing %</th>\n",
       "      <th>Non-Missing Values</th>\n",
       "      <th>Total Values in Column</th>\n",
       "      <th>Data Type</th>\n",
       "    </tr>\n",
       "  </thead>\n",
       "  <tbody>\n",
       "    <tr>\n",
       "      <th>Id</th>\n",
       "      <td>1264216</td>\n",
       "      <td>0</td>\n",
       "      <td>0.0</td>\n",
       "      <td>1264216</td>\n",
       "      <td>1264216</td>\n",
       "      <td>int64</td>\n",
       "    </tr>\n",
       "    <tr>\n",
       "      <th>OwnerUserId</th>\n",
       "      <td>630909</td>\n",
       "      <td>14454</td>\n",
       "      <td>1.1</td>\n",
       "      <td>1249762</td>\n",
       "      <td>1264216</td>\n",
       "      <td>float64</td>\n",
       "    </tr>\n",
       "    <tr>\n",
       "      <th>CreationDate</th>\n",
       "      <td>1264207</td>\n",
       "      <td>0</td>\n",
       "      <td>0.0</td>\n",
       "      <td>1264216</td>\n",
       "      <td>1264216</td>\n",
       "      <td>object</td>\n",
       "    </tr>\n",
       "    <tr>\n",
       "      <th>ClosedDate</th>\n",
       "      <td>55949</td>\n",
       "      <td>1208257</td>\n",
       "      <td>95.6</td>\n",
       "      <td>55959</td>\n",
       "      <td>1264216</td>\n",
       "      <td>object</td>\n",
       "    </tr>\n",
       "    <tr>\n",
       "      <th>Score</th>\n",
       "      <td>532</td>\n",
       "      <td>0</td>\n",
       "      <td>0.0</td>\n",
       "      <td>1264216</td>\n",
       "      <td>1264216</td>\n",
       "      <td>int64</td>\n",
       "    </tr>\n",
       "    <tr>\n",
       "      <th>Title</th>\n",
       "      <td>1263995</td>\n",
       "      <td>0</td>\n",
       "      <td>0.0</td>\n",
       "      <td>1264216</td>\n",
       "      <td>1264216</td>\n",
       "      <td>object</td>\n",
       "    </tr>\n",
       "    <tr>\n",
       "      <th>Body</th>\n",
       "      <td>1264204</td>\n",
       "      <td>0</td>\n",
       "      <td>0.0</td>\n",
       "      <td>1264216</td>\n",
       "      <td>1264216</td>\n",
       "      <td>object</td>\n",
       "    </tr>\n",
       "  </tbody>\n",
       "</table>\n",
       "</div>"
      ],
      "text/plain": [
       "              Total Unique Values  Total Missing Values  missing %  \\\n",
       "Id                        1264216                     0        0.0   \n",
       "OwnerUserId                630909                 14454        1.1   \n",
       "CreationDate              1264207                     0        0.0   \n",
       "ClosedDate                  55949               1208257       95.6   \n",
       "Score                         532                     0        0.0   \n",
       "Title                     1263995                     0        0.0   \n",
       "Body                      1264204                     0        0.0   \n",
       "\n",
       "              Non-Missing Values  Total Values in Column Data Type  \n",
       "Id                       1264216                 1264216     int64  \n",
       "OwnerUserId              1249762                 1264216   float64  \n",
       "CreationDate             1264216                 1264216    object  \n",
       "ClosedDate                 55959                 1264216    object  \n",
       "Score                    1264216                 1264216     int64  \n",
       "Title                    1264216                 1264216    object  \n",
       "Body                     1264216                 1264216    object  "
      ]
     },
     "execution_count": 15,
     "metadata": {},
     "output_type": "execute_result"
    }
   ],
   "source": [
    "# viewStats(cd_train, True,\"stats_cd_train_no_index.csv\")\n",
    "viewStats(df)"
   ]
  },
  {
   "cell_type": "code",
   "execution_count": 16,
   "id": "6e83dc4f",
   "metadata": {},
   "outputs": [
    {
     "data": {
      "text/html": [
       "<div>\n",
       "<style scoped>\n",
       "    .dataframe tbody tr th:only-of-type {\n",
       "        vertical-align: middle;\n",
       "    }\n",
       "\n",
       "    .dataframe tbody tr th {\n",
       "        vertical-align: top;\n",
       "    }\n",
       "\n",
       "    .dataframe thead th {\n",
       "        text-align: right;\n",
       "    }\n",
       "</style>\n",
       "<table border=\"1\" class=\"dataframe\">\n",
       "  <thead>\n",
       "    <tr style=\"text-align: right;\">\n",
       "      <th></th>\n",
       "      <th>Total Unique Values</th>\n",
       "      <th>Total Missing Values</th>\n",
       "      <th>missing %</th>\n",
       "      <th>Non-Missing Values</th>\n",
       "      <th>Total Values in Column</th>\n",
       "      <th>Data Type</th>\n",
       "    </tr>\n",
       "  </thead>\n",
       "  <tbody>\n",
       "    <tr>\n",
       "      <th>Id</th>\n",
       "      <td>1264216</td>\n",
       "      <td>0</td>\n",
       "      <td>0.0</td>\n",
       "      <td>3750994</td>\n",
       "      <td>3750994</td>\n",
       "      <td>int64</td>\n",
       "    </tr>\n",
       "    <tr>\n",
       "      <th>Tag</th>\n",
       "      <td>37034</td>\n",
       "      <td>1113</td>\n",
       "      <td>0.0</td>\n",
       "      <td>3749881</td>\n",
       "      <td>3750994</td>\n",
       "      <td>object</td>\n",
       "    </tr>\n",
       "  </tbody>\n",
       "</table>\n",
       "</div>"
      ],
      "text/plain": [
       "     Total Unique Values  Total Missing Values  missing %  Non-Missing Values  \\\n",
       "Id               1264216                     0        0.0             3750994   \n",
       "Tag                37034                  1113        0.0             3749881   \n",
       "\n",
       "     Total Values in Column Data Type  \n",
       "Id                  3750994     int64  \n",
       "Tag                 3750994    object  "
      ]
     },
     "execution_count": 16,
     "metadata": {},
     "output_type": "execute_result"
    }
   ],
   "source": [
    "viewStats(df_tags)"
   ]
  },
  {
   "cell_type": "code",
   "execution_count": 17,
   "id": "05d7e172",
   "metadata": {},
   "outputs": [
    {
     "data": {
      "text/html": [
       "<div>\n",
       "<style scoped>\n",
       "    .dataframe tbody tr th:only-of-type {\n",
       "        vertical-align: middle;\n",
       "    }\n",
       "\n",
       "    .dataframe tbody tr th {\n",
       "        vertical-align: top;\n",
       "    }\n",
       "\n",
       "    .dataframe thead th {\n",
       "        text-align: right;\n",
       "    }\n",
       "</style>\n",
       "<table border=\"1\" class=\"dataframe\">\n",
       "  <thead>\n",
       "    <tr style=\"text-align: right;\">\n",
       "      <th></th>\n",
       "      <th>Total Unique Values</th>\n",
       "      <th>Total Missing Values</th>\n",
       "      <th>missing %</th>\n",
       "      <th>Non-Missing Values</th>\n",
       "      <th>Total Values in Column</th>\n",
       "      <th>Data Type</th>\n",
       "    </tr>\n",
       "  </thead>\n",
       "  <tbody>\n",
       "    <tr>\n",
       "      <th>Id</th>\n",
       "      <td>2014516</td>\n",
       "      <td>0</td>\n",
       "      <td>0.0</td>\n",
       "      <td>2014516</td>\n",
       "      <td>2014516</td>\n",
       "      <td>int64</td>\n",
       "    </tr>\n",
       "    <tr>\n",
       "      <th>OwnerUserId</th>\n",
       "      <td>468797</td>\n",
       "      <td>13200</td>\n",
       "      <td>0.7</td>\n",
       "      <td>2001316</td>\n",
       "      <td>2014516</td>\n",
       "      <td>float64</td>\n",
       "    </tr>\n",
       "    <tr>\n",
       "      <th>CreationDate</th>\n",
       "      <td>2002766</td>\n",
       "      <td>0</td>\n",
       "      <td>0.0</td>\n",
       "      <td>2014516</td>\n",
       "      <td>2014516</td>\n",
       "      <td>object</td>\n",
       "    </tr>\n",
       "    <tr>\n",
       "      <th>ParentId</th>\n",
       "      <td>1102568</td>\n",
       "      <td>0</td>\n",
       "      <td>0.0</td>\n",
       "      <td>2014516</td>\n",
       "      <td>2014516</td>\n",
       "      <td>int64</td>\n",
       "    </tr>\n",
       "    <tr>\n",
       "      <th>Score</th>\n",
       "      <td>697</td>\n",
       "      <td>0</td>\n",
       "      <td>0.0</td>\n",
       "      <td>2014516</td>\n",
       "      <td>2014516</td>\n",
       "      <td>int64</td>\n",
       "    </tr>\n",
       "    <tr>\n",
       "      <th>Body</th>\n",
       "      <td>2014375</td>\n",
       "      <td>0</td>\n",
       "      <td>0.0</td>\n",
       "      <td>2014516</td>\n",
       "      <td>2014516</td>\n",
       "      <td>object</td>\n",
       "    </tr>\n",
       "  </tbody>\n",
       "</table>\n",
       "</div>"
      ],
      "text/plain": [
       "              Total Unique Values  Total Missing Values  missing %  \\\n",
       "Id                        2014516                     0        0.0   \n",
       "OwnerUserId                468797                 13200        0.7   \n",
       "CreationDate              2002766                     0        0.0   \n",
       "ParentId                  1102568                     0        0.0   \n",
       "Score                         697                     0        0.0   \n",
       "Body                      2014375                     0        0.0   \n",
       "\n",
       "              Non-Missing Values  Total Values in Column Data Type  \n",
       "Id                       2014516                 2014516     int64  \n",
       "OwnerUserId              2001316                 2014516   float64  \n",
       "CreationDate             2014516                 2014516    object  \n",
       "ParentId                 2014516                 2014516     int64  \n",
       "Score                    2014516                 2014516     int64  \n",
       "Body                     2014516                 2014516    object  "
      ]
     },
     "execution_count": 17,
     "metadata": {},
     "output_type": "execute_result"
    }
   ],
   "source": [
    "viewStats(df_answers)"
   ]
  },
  {
   "cell_type": "markdown",
   "id": "9753c7d2",
   "metadata": {},
   "source": [
    "🔍 Project Goal:\n",
    "\n",
    "Given the text of a question (Title + Body), predict the correct Tags.\n",
    "\n",
    "That’s the core task — it’s a multi-class, multi-label text classification problem, where the input is the question text, and the output is one or more tags from the top 10 most common.\n",
    "\n",
    "For this:\n",
    "I don’t need:\n",
    "\n",
    "- Answers\n",
    "- User info\n",
    "- Post dates\n",
    "- Scores\n",
    "\n",
    "Will just keep:\n",
    "\n",
    "- Title\n",
    "- Body\n",
    "- Tags ✅\n"
   ]
  },
  {
   "cell_type": "code",
   "execution_count": 21,
   "id": "032f4151",
   "metadata": {},
   "outputs": [],
   "source": [
    "columnsToDelete =['CreationDate','OwnerUserId','ClosedDate','Score']\n",
    "df.drop(columns=columnsToDelete, inplace=True)"
   ]
  },
  {
   "cell_type": "code",
   "execution_count": 24,
   "id": "e14effd6",
   "metadata": {},
   "outputs": [
    {
     "data": {
      "text/plain": [
       "Index(['Id', 'Title', 'Body'], dtype='object')"
      ]
     },
     "execution_count": 24,
     "metadata": {},
     "output_type": "execute_result"
    }
   ],
   "source": [
    "df.columns"
   ]
  },
  {
   "cell_type": "markdown",
   "id": "f7ed64d0",
   "metadata": {},
   "source": [
    "Now tags is repeating ids once for each tag the id has, considering each id can have multiple tags\n"
   ]
  },
  {
   "cell_type": "code",
   "execution_count": 22,
   "id": "f627bccb",
   "metadata": {},
   "outputs": [
    {
     "data": {
      "text/plain": [
       "(3750994, 2)"
      ]
     },
     "execution_count": 22,
     "metadata": {},
     "output_type": "execute_result"
    }
   ],
   "source": [
    "df_tags.shape"
   ]
  },
  {
   "cell_type": "code",
   "execution_count": 25,
   "id": "bb1de100",
   "metadata": {},
   "outputs": [],
   "source": [
    "# Group tags by question Id\n",
    "df_tags_grouped = df_tags.groupby('Id')['Tag'].apply(list).reset_index(name='Tags')"
   ]
  },
  {
   "cell_type": "code",
   "execution_count": 27,
   "id": "6335fa0a",
   "metadata": {},
   "outputs": [
    {
     "name": "stdout",
     "output_type": "stream",
     "text": [
      "(1264216, 2)\n",
      "(1264216, 3)\n"
     ]
    }
   ],
   "source": [
    "print(df_tags_grouped.shape); print(df.shape)"
   ]
  },
  {
   "cell_type": "code",
   "execution_count": 28,
   "id": "fb90b0bf",
   "metadata": {},
   "outputs": [
    {
     "name": "stdout",
     "output_type": "stream",
     "text": [
      "The columns have the same values and order.\n"
     ]
    }
   ],
   "source": [
    "compareValuesInColumns(df, df_tags, columnName=[\"Id\"])"
   ]
  },
  {
   "cell_type": "code",
   "execution_count": 29,
   "id": "285f72f5",
   "metadata": {},
   "outputs": [],
   "source": [
    "df_merged = pd.merge(df, df_tags_grouped, on='Id')"
   ]
  },
  {
   "cell_type": "code",
   "execution_count": 31,
   "id": "e034bc1b",
   "metadata": {},
   "outputs": [
    {
     "name": "stdout",
     "output_type": "stream",
     "text": [
      "(1264216, 4)\n",
      "Index(['Id', 'Title', 'Body', 'Tags'], dtype='object')\n"
     ]
    }
   ],
   "source": [
    "print(df_merged.shape)\n",
    "print(df_merged.columns)"
   ]
  },
  {
   "cell_type": "code",
   "execution_count": 32,
   "id": "758e5780",
   "metadata": {},
   "outputs": [
    {
     "data": {
      "text/plain": [
       "Id        int64\n",
       "Title    object\n",
       "Body     object\n",
       "Tags     object\n",
       "dtype: object"
      ]
     },
     "execution_count": 32,
     "metadata": {},
     "output_type": "execute_result"
    }
   ],
   "source": [
    "df_merged.dtypes"
   ]
  },
  {
   "cell_type": "code",
   "execution_count": null,
   "id": "8e9ea76d",
   "metadata": {},
   "outputs": [],
   "source": [
    "# Merge questions with their tags\n",
    "df_merged.sample(100).to_csv('df_merged_sample.csv')"
   ]
  },
  {
   "cell_type": "code",
   "execution_count": 34,
   "id": "42618445",
   "metadata": {},
   "outputs": [],
   "source": [
    "# Optional: Keep only what you need\n",
    "df_final = df_merged[['Title', 'Body', 'Tags']]"
   ]
  },
  {
   "cell_type": "code",
   "execution_count": 35,
   "id": "989dae01",
   "metadata": {},
   "outputs": [],
   "source": [
    "df_final.to_csv(\"final_merged_data.csv\")"
   ]
  },
  {
   "cell_type": "code",
   "execution_count": null,
   "id": "94b88edc",
   "metadata": {},
   "outputs": [],
   "source": []
  }
 ],
 "metadata": {
  "kernelspec": {
   "display_name": "py3121",
   "language": "python",
   "name": "python3"
  },
  "language_info": {
   "codemirror_mode": {
    "name": "ipython",
    "version": 3
   },
   "file_extension": ".py",
   "mimetype": "text/x-python",
   "name": "python",
   "nbconvert_exporter": "python",
   "pygments_lexer": "ipython3",
   "version": "3.12.1"
  }
 },
 "nbformat": 4,
 "nbformat_minor": 5
}
