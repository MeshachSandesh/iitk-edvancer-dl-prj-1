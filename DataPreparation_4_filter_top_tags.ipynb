{
 "cells": [
  {
   "cell_type": "code",
   "execution_count": 32,
   "id": "353c9150",
   "metadata": {},
   "outputs": [],
   "source": [
    "import pandas as pd\n",
    "from collections import Counter\n",
    "import ast"
   ]
  },
  {
   "cell_type": "code",
   "execution_count": 33,
   "id": "36adcb17",
   "metadata": {},
   "outputs": [],
   "source": [
    "df = pd.read_csv('./finalData/final_preprocessed.csv', encoding='latin1')"
   ]
  },
  {
   "cell_type": "code",
   "execution_count": 34,
   "id": "0b75334c",
   "metadata": {},
   "outputs": [
    {
     "data": {
      "text/plain": [
       "0                    ['flex', 'actionscript-3', 'air']\n",
       "1    ['svn', 'tortoisesvn', 'branch', 'branching-an...\n",
       "Name: Tags, dtype: object"
      ]
     },
     "execution_count": 34,
     "metadata": {},
     "output_type": "execute_result"
    }
   ],
   "source": [
    "df['Tags'].head(2)"
   ]
  },
  {
   "cell_type": "code",
   "execution_count": 35,
   "id": "4fef43e2",
   "metadata": {},
   "outputs": [],
   "source": [
    "# Convert strings to actual lists safely. The Tags objects are json objects, we will convert them to python list\n",
    "def to_list(val):\n",
    "    try:\n",
    "        return ast.literal_eval(val)\n",
    "    except:\n",
    "        return []\n",
    "\n",
    "df['Tags'] = df['Tags'].apply(to_list)"
   ]
  },
  {
   "cell_type": "code",
   "execution_count": 36,
   "id": "f17552bb",
   "metadata": {},
   "outputs": [
    {
     "data": {
      "text/plain": [
       "0                          [flex, actionscript-3, air]\n",
       "1    [svn, tortoisesvn, branch, branching-and-merging]\n",
       "Name: Tags, dtype: object"
      ]
     },
     "execution_count": 36,
     "metadata": {},
     "output_type": "execute_result"
    }
   ],
   "source": [
    "df['Tags'].head(2)"
   ]
  },
  {
   "cell_type": "code",
   "execution_count": 38,
   "id": "e2b0dae2",
   "metadata": {},
   "outputs": [],
   "source": [
    "# Flatten and count tag frequencies\n",
    "all_tags = [tag for tags in df['Tags'] for tag in tags]\n",
    "tag_counts = Counter(all_tags)"
   ]
  },
  {
   "cell_type": "code",
   "execution_count": 40,
   "id": "f29ad024",
   "metadata": {},
   "outputs": [
    {
     "name": "stdout",
     "output_type": "stream",
     "text": [
      "Top 10 tags: ['javascript', 'java', 'c#', 'php', 'android', 'jquery', 'python', 'html', 'c++', 'ios']\n"
     ]
    }
   ],
   "source": [
    "# Get the top 10 tags\n",
    "top_10_tags = [tag for tag, count in tag_counts.most_common(10)]\n",
    "print(\"Top 10 tags:\", top_10_tags)"
   ]
  },
  {
   "cell_type": "code",
   "execution_count": 41,
   "id": "474b90a3",
   "metadata": {},
   "outputs": [],
   "source": [
    "# Keep only those tags in top 10 for each row\n",
    "df['Tags'] = df['Tags'].apply(lambda tags: [tag for tag in tags if tag in top_10_tags])"
   ]
  },
  {
   "cell_type": "code",
   "execution_count": 42,
   "id": "835f3ca1",
   "metadata": {},
   "outputs": [],
   "source": [
    "# Drop rows with no top 10 tags\n",
    "df = df[df['Tags'].map(len) > 0]"
   ]
  },
  {
   "cell_type": "code",
   "execution_count": 43,
   "id": "61d1cf94",
   "metadata": {},
   "outputs": [],
   "source": [
    "# Save to file\n",
    "df.to_csv('top_10_filtered_data.csv', index=False)"
   ]
  }
 ],
 "metadata": {
  "kernelspec": {
   "display_name": "pythonEnv2Mesh",
   "language": "python",
   "name": "python3"
  },
  "language_info": {
   "codemirror_mode": {
    "name": "ipython",
    "version": 3
   },
   "file_extension": ".py",
   "mimetype": "text/x-python",
   "name": "python",
   "nbconvert_exporter": "python",
   "pygments_lexer": "ipython3",
   "version": "3.11.11"
  }
 },
 "nbformat": 4,
 "nbformat_minor": 5
}
